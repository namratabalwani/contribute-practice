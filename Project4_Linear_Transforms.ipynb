{
  "nbformat": 4,
  "nbformat_minor": 0,
  "metadata": {
    "colab": {
      "provenance": [],
      "authorship_tag": "ABX9TyORrABoYNBAIp/M6zdmmrM8",
      "include_colab_link": true
    },
    "kernelspec": {
      "name": "python3",
      "display_name": "Python 3"
    },
    "language_info": {
      "name": "python"
    }
  },
  "cells": [
    {
      "cell_type": "markdown",
      "metadata": {
        "id": "view-in-github",
        "colab_type": "text"
      },
      "source": [
        "<a href=\"https://colab.research.google.com/github/namratabalwani/contribute-practice/blob/main/Project4_Linear_Transforms.ipynb\" target=\"_parent\"><img src=\"https://colab.research.google.com/assets/colab-badge.svg\" alt=\"Open In Colab\"/></a>"
      ]
    },
    {
      "cell_type": "code",
      "execution_count": 2,
      "metadata": {
        "id": "ELDwns-ecX21"
      },
      "outputs": [],
      "source": [
        "import numpy as np"
      ]
    },
    {
      "cell_type": "code",
      "source": [
        "M = 8\n",
        "N = 10\n",
        "f = np.zeros((M, N))\n",
        "g = np.zeros((M, N))\n",
        "h = np.zeros((M, N, M ,N))\n"
      ],
      "metadata": {
        "id": "S9N_yp-Ycd-R"
      },
      "execution_count": 44,
      "outputs": []
    },
    {
      "cell_type": "code",
      "source": [
        "def funcGeneralLinearTransform (f,g,h):\n",
        "  # Getting the input f and filter h\n",
        "  for m in range(M):\n",
        "    for n in range(N):\n",
        "      f[m, n] = np.random.rand() * 100\n",
        "      for u in range(M):\n",
        "        for v in range(N):\n",
        "          h[m, n, u, v] = np.random.rand() * 100\n",
        "  # Calculating output g\n",
        "  for u in range(M):\n",
        "    for v in range(N):\n",
        "      for m in range(M):\n",
        "        for n in range(N):\n",
        "          g[u, v] += h[u, v, m, n] * f[m, n]\n",
        "\n",
        "  print('\\n General (shift-variant) linear transform (GLT) \\n')\n",
        "  print(\"Input Matrix f: \\n\", f)\n",
        "  print(\"Output Matrix g : \\n\", g)\n",
        "  return"
      ],
      "metadata": {
        "id": "KaOSgjyYc53z"
      },
      "execution_count": 27,
      "outputs": []
    },
    {
      "cell_type": "code",
      "source": [
        "def funcSeparableLinearTransform(f, g, h):\n",
        "  g1 = np.zeros((M, N))\n",
        "  h1 = np.zeros((M, N))\n",
        "  h2 = np.zeros((N, N))\n",
        "  # Getting the input f and filters h1 & h2\n",
        "  for m in range(M):\n",
        "    for n in range(N):\n",
        "      f[m, n] = np.random.rand() * 100\n",
        "\n",
        "  for u in range(M):\n",
        "    for m in range(M):\n",
        "      h1[u, m] = np.random.rand() * 100\n",
        "\n",
        "  for v in range(N):\n",
        "    for n in range(N):\n",
        "      h2[v, n] = np.random.rand() * 100\n",
        "\n",
        "  # Calculating intermediate result g1\n",
        "  for m in range(M):\n",
        "    for v in range(N):\n",
        "      for n in range(N):\n",
        "        g1[m, v] += h2[v, n] * f[m, n]\n",
        "\n",
        "  # Calculating output g\n",
        "    for u in range(M):\n",
        "      for v in range(N):\n",
        "        for m in range(M):\n",
        "          g[u, v] += h1[u, m] * g1[m, v]\n",
        "\n",
        "  print('\\n Separable linear transform (SLT): \\n')\n",
        "\n",
        "  print(\"Input Matrix f: \\n\", f)\n",
        "  print(\"Output Matrix g : \\n\", g)\n",
        "  return"
      ],
      "metadata": {
        "id": "PAa-fP5lmaL7"
      },
      "execution_count": 24,
      "outputs": []
    },
    {
      "cell_type": "code",
      "source": [
        "def funcConvolutionLinearTrasnform(f, g, h):\n",
        "  hc = np.zeros((M, N))\n",
        "\n",
        "  # Getting input f and filter hc\n",
        "  for m in range(M):\n",
        "    for n in range(N):\n",
        "      f[m, n] = 100.0 * np.random.rand()\n",
        "      hc[m, n] = 100.0 * np.random.rand()\n",
        "\n",
        "  #Calculating output g\n",
        "  for u in range(M):\n",
        "    for v in range(N):\n",
        "      for m in range(M):\n",
        "        for n in range(N):\n",
        "          g[u, v] += (hc[(u-m+M)%M, (v-n+N)%N] * f[m, n])\n",
        "\n",
        "\n",
        "  print('\\n Convolution l (linear shift-invariant) transform: CLT: \\n')\n",
        "\n",
        "  print('Input f:')\n",
        "  print(f)\n",
        "  print('Output g :')\n",
        "  print(g)"
      ],
      "metadata": {
        "id": "DnUoIZqFr1Mp"
      },
      "execution_count": 26,
      "outputs": []
    },
    {
      "cell_type": "code",
      "source": [
        "def funcSeparableConvolutionLinearTransform(f, g, h):\n",
        "  h1c = np.zeros(M)\n",
        "  h2c = np.zeros(N)\n",
        "  g1 = np.zeros((M, N))\n",
        "\n",
        "  for m in range(M):\n",
        "    for n in range(N):\n",
        "      f[m, n] = 100.0 * np.random.rand()\n",
        "\n",
        "  for m in range(M):\n",
        "    h1c[m] = 100.0 * np.random.rand()\n",
        "\n",
        "  for n in range(N):\n",
        "    h2c[n] = 100.0 * np.random.rand()\n",
        "\n",
        "  for m in range(M):\n",
        "    for v in range(N):\n",
        "      for n in range(N):\n",
        "        g1[m, v] += (h2c[(v-n+N)%N] * f[m, n])\n",
        "\n",
        "  for u in range(M):\n",
        "    for v in range(N):\n",
        "      for m in range(M):\n",
        "        g[u, v] += (h1c[(u-m+M)%M] * g1[m, v])\n",
        "\n",
        "  print('\\n Separable Convolution linear transform (SCT)\\n')\n",
        "  print('Input f:')\n",
        "  print(f)\n",
        "  print('Output g :')\n",
        "  print(g)\n",
        "  return"
      ],
      "metadata": {
        "id": "yZyYjEEAyrWM"
      },
      "execution_count": 28,
      "outputs": []
    },
    {
      "cell_type": "code",
      "source": [
        "funcGeneralLinearTransform(f, g, h)"
      ],
      "metadata": {
        "id": "U5M3M_LpdTl_"
      },
      "execution_count": null,
      "outputs": []
    },
    {
      "cell_type": "code",
      "source": [
        "funcSeparableLinearTransform(f, g, h)"
      ],
      "metadata": {
        "id": "WhDkeT4qrgxV"
      },
      "execution_count": null,
      "outputs": []
    },
    {
      "cell_type": "code",
      "source": [
        "funcConvolutionLinearTrasnform(f, g, h)"
      ],
      "metadata": {
        "id": "7fY6pp88reIy"
      },
      "execution_count": null,
      "outputs": []
    },
    {
      "cell_type": "code",
      "source": [
        "funcSeparableConvolutionLinearTransform(f, g, h)"
      ],
      "metadata": {
        "id": "HpVEc_Fa0Nkt"
      },
      "execution_count": null,
      "outputs": []
    }
  ]
}